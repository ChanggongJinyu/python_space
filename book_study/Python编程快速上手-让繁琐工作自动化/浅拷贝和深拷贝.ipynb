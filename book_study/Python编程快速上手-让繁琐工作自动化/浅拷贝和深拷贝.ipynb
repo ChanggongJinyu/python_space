{
 "cells": [
  {
   "cell_type": "code",
   "execution_count": 4,
   "id": "ca7e4374-4acb-4ccc-861f-2c0149fea26d",
   "metadata": {},
   "outputs": [
    {
     "name": "stdout",
     "output_type": "stream",
     "text": [
      "spam:  1860517637632 ['A', 42, 'C', 'D']\n",
      "cheese:  1860517637632 ['A', 42, 'C', 'D']\n"
     ]
    }
   ],
   "source": [
    "spam = [\"A\", \"B\", \"C\", \"D\"]\n",
    "cheese = spam\n",
    "cheese[1] = 42\n",
    "print(\"spam: \", id(spam), spam)\n",
    "print(\"cheese: \", id(cheese), cheese)"
   ]
  },
  {
   "cell_type": "code",
   "execution_count": 5,
   "id": "8dc653d9-9846-4014-9a93-9864119cf30a",
   "metadata": {},
   "outputs": [
    {
     "name": "stdout",
     "output_type": "stream",
     "text": [
      "spam:  1860517634240 ['A', 'B', 'C', 'D']\n",
      "cheese:  1860517639040 ['A', 42, 'C', 'D']\n"
     ]
    }
   ],
   "source": [
    "import copy\n",
    "\n",
    "spam = [\"A\", \"B\", \"C\", \"D\"]\n",
    "cheese = copy.copy(spam)\n",
    "cheese[1] = 42\n",
    "print(\"spam: \", id(spam), spam)\n",
    "print(\"cheese: \", id(cheese), cheese)"
   ]
  },
  {
   "cell_type": "code",
   "execution_count": null,
   "id": "a2824655-b2d7-4235-b4f9-38da7cadae56",
   "metadata": {},
   "outputs": [],
   "source": []
  }
 ],
 "metadata": {
  "kernelspec": {
   "display_name": "Python 3 (ipykernel)",
   "language": "python",
   "name": "python3"
  },
  "language_info": {
   "codemirror_mode": {
    "name": "ipython",
    "version": 3
   },
   "file_extension": ".py",
   "mimetype": "text/x-python",
   "name": "python",
   "nbconvert_exporter": "python",
   "pygments_lexer": "ipython3",
   "version": "3.10.4"
  }
 },
 "nbformat": 4,
 "nbformat_minor": 5
}
