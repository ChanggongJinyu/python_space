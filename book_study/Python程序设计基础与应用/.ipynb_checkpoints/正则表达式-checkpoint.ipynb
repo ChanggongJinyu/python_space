{
 "cells": [
  {
   "cell_type": "code",
   "execution_count": 1,
   "id": "6786d0fa-f785-4462-9766-4d3faf6d23a8",
   "metadata": {},
   "outputs": [
    {
     "data": {
      "text/plain": [
       "['better ']"
      ]
     },
     "execution_count": 1,
     "metadata": {},
     "output_type": "execute_result"
    }
   ],
   "source": [
    "import re\n",
    "example = 'Beautiful is better than ugly.'\n",
    "re.findall('\\\\bb.+? \\\\b', example)"
   ]
  },
  {
   "cell_type": "markdown",
   "id": "2c131518-d039-4909-9eb6-6f5ca8b77494",
   "metadata": {},
   "source": [
    "## \\b 单词边界符"
   ]
  },
  {
   "cell_type": "code",
   "execution_count": 2,
   "id": "ee5eca75-e4b4-456a-91d2-052174aec068",
   "metadata": {},
   "outputs": [
    {
     "data": {
      "text/plain": [
       "['better than ugly']"
      ]
     },
     "execution_count": 2,
     "metadata": {},
     "output_type": "execute_result"
    }
   ],
   "source": [
    "re.findall('\\\\bb.+\\\\b', example)"
   ]
  },
  {
   "cell_type": "code",
   "execution_count": 3,
   "id": "abb26957-ce11-4430-8f1b-8fd3a7cc5728",
   "metadata": {},
   "outputs": [
    {
     "name": "stdout",
     "output_type": "stream",
     "text": [
      "<re.Match object; span=(0, 12), match='Isaac Newton'>\n",
      "Isaac Newton\n",
      "Isaac\n",
      "Newton\n",
      "('Isaac', 'Newton')\n"
     ]
    }
   ],
   "source": [
    "m = re.match(r'(\\w+) (\\w+)', 'Isaac Newton, physicist')\n",
    "print(m)\n",
    "print(m.group(0))\n",
    "print(m.group(1))\n",
    "print(m.group(2))\n",
    "print(m.group(1,2))"
   ]
  },
  {
   "cell_type": "code",
   "execution_count": 4,
   "id": "744c5aa4-83dc-4f76-a839-f3291418e44e",
   "metadata": {},
   "outputs": [
    {
     "name": "stdout",
     "output_type": "stream",
     "text": [
      "Malcolm\n",
      "Reynolds\n",
      "{'first_name': 'Malcolm', 'last_name': 'Reynolds'}\n"
     ]
    }
   ],
   "source": [
    "m = re.match(r'(?P<first_name>\\w+) (?P<last_name>\\w+)', 'Malcolm Reynolds')\n",
    "print(m.group('first_name')) # Malcolm\n",
    "print(m.group('last_name')) # Reynolds\n",
    "print(m.groupdict()) # {'first_name': 'Malcolm', 'last_name': 'Reynolds'}"
   ]
  },
  {
   "cell_type": "code",
   "execution_count": 5,
   "id": "c6115f56-a60b-4d16-912a-de5d5bae1a63",
   "metadata": {},
   "outputs": [
    {
     "name": "stdout",
     "output_type": "stream",
     "text": [
      "('24', '1632')\n"
     ]
    }
   ],
   "source": [
    "m = re.match(r'(\\d+)\\.(\\d+)', '24.1632')\n",
    "print(m.groups()) # ('24', '1632')"
   ]
  },
  {
   "cell_type": "code",
   "execution_count": 6,
   "id": "b7eb287a-041b-4ac3-b155-f482a3b473f6",
   "metadata": {},
   "outputs": [
    {
     "name": "stdout",
     "output_type": "stream",
     "text": [
      "[('aabc', 'a'), ('abbcd', 'b'), ('abccd', 'c'), ('abcdd', 'd')]\n"
     ]
    }
   ],
   "source": [
    "s = 'aabc abcd abbcd abccd abcdd'\n",
    "a = re.findall(r'(\\b\\w*(?P<f>\\w+)(?P=f)\\w*\\b)', s)\n",
    "print(a)"
   ]
  },
  {
   "cell_type": "code",
   "execution_count": 13,
   "id": "52aa8d49-1f59-40cb-8434-91eb85e1ae6a",
   "metadata": {},
   "outputs": [
    {
     "name": "stdout",
     "output_type": "stream",
     "text": [
      "['aabc', '', 'abcd', '', 'abbcd', '', 'abccd', '', 'abcdd', '']\n",
      "['aabc', '', 'abcd', '', 'abbcd', '', 'abccd', '', 'abcdd', '']\n",
      "[('aabc', 'c'), ('abcd', 'd'), ('abbcd', 'd'), ('abccd', 'd'), ('abcdd', 'd')]\n"
     ]
    }
   ],
   "source": [
    "print(re.findall(r'(\\b\\w*\\b)', s))\n",
    "print(re.findall(r'(\\b\\w*\\w*\\b)', s))\n",
    "print(re.findall(r'(\\b\\w*(?P<f>\\w+)\\w*\\b)', s))"
   ]
  },
  {
   "cell_type": "code",
   "execution_count": 30,
   "id": "aa43d36c-bb75-46a4-83a1-97e9fc604b74",
   "metadata": {},
   "outputs": [
    {
     "name": "stdout",
     "output_type": "stream",
     "text": [
      "[('0535', '1234567'), ('010', '12345678'), ('025', '87654321')]\n",
      "('0535', '1234567')\n",
      "('010', '12345678')\n",
      "('025', '87654321')\n"
     ]
    }
   ],
   "source": [
    "text = '''\n",
    "Suppose my Phone No. is 0535-1234567,\n",
    "yours is 010-12345678,\n",
    "his is 025-87654321.\n",
    "'''\n",
    "match = re.findall(r'(\\d{3,4})-(\\d{7,8})', text)\n",
    "print(match)\n",
    "for item in match:\n",
    "    print(item)"
   ]
  },
  {
   "cell_type": "code",
   "execution_count": 33,
   "id": "7e632f88-525b-4723-a255-f298003a6670",
   "metadata": {},
   "outputs": [
    {
     "name": "stdout",
     "output_type": "stream",
     "text": [
      "['Jone', 'Harriman', 'Addams', 'Pierce']\n"
     ]
    }
   ],
   "source": [
    "s = 'Dr.David Jone,Ophthalmology,x2441 \\\n",
    "Ms.Cindy Harriman,Registry,x6231 \\\n",
    "Mr.Chester Addams,Mortuary,x6231 \\\n",
    "Dr.Hawkeye Pierce,Surgery,x0986'\n",
    "pattern=re.compile(r'(?<=\\s)([A-Za-z]*)(?=,)')\n",
    "print(pattern.findall(s))"
   ]
  },
  {
   "cell_type": "code",
   "execution_count": 3,
   "id": "14e9b4f0-3fd5-4487-bb93-8b18f20b7bc4",
   "metadata": {},
   "outputs": [
    {
     "data": {
      "text/plain": [
       "<re.Match object; span=(0, 6), match='Isaac '>"
      ]
     },
     "execution_count": 3,
     "metadata": {},
     "output_type": "execute_result"
    }
   ],
   "source": [
    "import re\n",
    "re.search('Isaac (?!Asimov)', 'Isaac Asimov')\n",
    "re.search('Isaac (?!Asimov)', 'Isaac Abc')"
   ]
  },
  {
   "cell_type": "code",
   "execution_count": 12,
   "id": "33bc79b6-2fb4-4811-a8e1-a05a6c99dd6f",
   "metadata": {},
   "outputs": [],
   "source": [
    "re.search('(?<!Asimov) Isaac', 'Asimov Isaac')"
   ]
  },
  {
   "cell_type": "code",
   "execution_count": 13,
   "id": "58b08409-b902-4f0a-b3e4-f772efc556f5",
   "metadata": {},
   "outputs": [
    {
     "data": {
      "text/plain": [
       "<re.Match object; span=(4, 10), match=' Isaac'>"
      ]
     },
     "execution_count": 13,
     "metadata": {},
     "output_type": "execute_result"
    }
   ],
   "source": [
    "re.search('(?<!Asimov) Isaac', 'abcd Isaac')"
   ]
  },
  {
   "cell_type": "code",
   "execution_count": 10,
   "id": "c74e3d92-d7ed-4d9b-8879-8dbff6b829ef",
   "metadata": {},
   "outputs": [
    {
     "data": {
      "text/plain": [
       "<re.Match object; span=(3, 6), match='def'>"
      ]
     },
     "execution_count": 10,
     "metadata": {},
     "output_type": "execute_result"
    }
   ],
   "source": [
    "re.search('(?<=abc)def', 'abcdef')"
   ]
  },
  {
   "cell_type": "code",
   "execution_count": 11,
   "id": "247e6998-bab7-4fe7-9f09-3d2b418c88a8",
   "metadata": {},
   "outputs": [
    {
     "data": {
      "text/plain": [
       "<re.Match object; span=(5, 8), match='egg'>"
      ]
     },
     "execution_count": 11,
     "metadata": {},
     "output_type": "execute_result"
    }
   ],
   "source": [
    "re.search(r'(?<=-)\\w+', 'spam-egg')"
   ]
  },
  {
   "cell_type": "code",
   "execution_count": 18,
   "id": "3fcdee30-5f99-4d22-bcd7-cfa262324111",
   "metadata": {},
   "outputs": [
    {
     "data": {
      "text/plain": [
       "<re.Match object; span=(0, 6), match='Isaac '>"
      ]
     },
     "execution_count": 18,
     "metadata": {},
     "output_type": "execute_result"
    }
   ],
   "source": [
    "re.search('Isaac (?=Asimov)', 'Isaac Asimov')"
   ]
  },
  {
   "cell_type": "code",
   "execution_count": 19,
   "id": "c33587ba-204c-457c-b491-46ceca763b86",
   "metadata": {},
   "outputs": [],
   "source": [
    "re.search('Isaac (?=Asimov)', 'Isaac Abc')"
   ]
  },
  {
   "cell_type": "code",
   "execution_count": null,
   "id": "9e05c12b-bac4-4805-8773-526277201fd4",
   "metadata": {},
   "outputs": [],
   "source": []
  }
 ],
 "metadata": {
  "kernelspec": {
   "display_name": "Python 3 (ipykernel)",
   "language": "python",
   "name": "python3"
  },
  "language_info": {
   "codemirror_mode": {
    "name": "ipython",
    "version": 3
   },
   "file_extension": ".py",
   "mimetype": "text/x-python",
   "name": "python",
   "nbconvert_exporter": "python",
   "pygments_lexer": "ipython3",
   "version": "3.10.4"
  }
 },
 "nbformat": 4,
 "nbformat_minor": 5
}
