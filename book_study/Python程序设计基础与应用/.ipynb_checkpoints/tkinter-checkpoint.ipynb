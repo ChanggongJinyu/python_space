{
 "cells": [
  {
   "cell_type": "code",
   "execution_count": 2,
   "id": "2d3f4dcd-1c1c-4aba-9b97-63602138d775",
   "metadata": {},
   "outputs": [],
   "source": [
    "import os\n",
    "import os.path\n",
    "import tkinter\n",
    "import tkinter.messagebox"
   ]
  },
  {
   "cell_type": "code",
   "execution_count": 3,
   "id": "400ef975-89aa-4d43-9c3d-923d28c8c624",
   "metadata": {},
   "outputs": [
    {
     "name": "stdout",
     "output_type": "stream",
     "text": [
      "C:\\Users\\33627\\AppData\\Local\\Temp\\info.txt\n"
     ]
    }
   ],
   "source": [
    "path = os.getenv(\"temp\")\n",
    "filename = os.path.join(path, \"info.txt\")\n",
    "print(filename)"
   ]
  },
  {
   "cell_type": "code",
   "execution_count": 4,
   "id": "2f5759bb-76a1-4d80-97ab-7b820091d95e",
   "metadata": {},
   "outputs": [],
   "source": [
    "# 创建应用程序窗口\n",
    "root = tkinter.Tk()\n",
    "# 定义窗口大小\n",
    "root[\"height\"] = 140\n",
    "root[\"width\"] = 200"
   ]
  },
  {
   "cell_type": "code",
   "execution_count": 5,
   "id": "ddbd1d25-76fc-49f1-911f-17c3958bf4cf",
   "metadata": {},
   "outputs": [],
   "source": [
    "# 在窗口上创建标签组件,指定的窗口中显示的文本和图像\n",
    "# Label ( master, option, ... )\n",
    "# master: 框架的父容器\n",
    "# options: 可选项，即该标签的可设置的属性。这些选项可以用键-值的形式设置，并以逗号分隔。\n",
    "# text: 设置文本，可以包含换行符(\\n)。\n",
    "# justify: 定义对齐方式，可选值有：LEFT,RIGHT,CENTER，默认为 CENTER。\n",
    "# anchor: 文本或图像在背景内容区的位置，默认为 center，可选值为（n,s,w,e,ne,nw,sw,se,center）eswn 是东南西北英文的首字母，表示：上北下南左西右东。\n",
    "# width: 设置标签宽度，默认值是 0，自动计算，单位以像素计。\n",
    "label_name = tkinter.Label(\n",
    "    root, text=\"User Name\", justify=tkinter.RIGHT, anchor=\"e\", width=80\n",
    ")\n",
    "# 把组件放置到窗口上指定区域\n",
    "label_name.place(x=10, y=5, width=80, height=20)\n",
    "\n",
    "# 创建字符串变量和文本框组件，同时设置关联的变量\n",
    "# 可以通过关联变量来读取或修改文本框内的文本\n",
    "var_name = tkinter.StringVar(root, value=\"\") # 跟踪变量的值的变化，以保证值的变更随时可以显示在界面上\n",
    "entry_name = tkinter.Entry(root, width=80, textvariable=var_name) # Entry（输入框）组件通常用于获取用户的输入文本\n",
    "entry_name.place(x=100, y=5, width=80, height=20)"
   ]
  },
  {
   "cell_type": "code",
   "execution_count": 6,
   "id": "2156b468-0aa2-4021-ac8f-94a18ac54d63",
   "metadata": {},
   "outputs": [],
   "source": [
    "label_pwd = tkinter.Label(\n",
    "    root, text=\"User Pwd:\", justify=tkinter.RIGHT, anchor=\"e\", width=20\n",
    ")\n",
    "label_pwd.place(x=10, y=30, width=80, height=20)\n",
    "\n",
    "# 创建密码文本框\n",
    "var_pwd = tkinter.StringVar(root, value=\"\")\n",
    "entry_pwd = tkinter.Entry(root, show=\"*\", width=80, textvariable=var_pwd)\n",
    "entry_pwd.place(x=100, y=30, width=80, height=20)"
   ]
  },
  {
   "cell_type": "code",
   "execution_count": 7,
   "id": "2407056a-286c-4fd8-894f-9fb25dc45f58",
   "metadata": {},
   "outputs": [],
   "source": [
    "# 尝试自动填写用户名和密码\n",
    "try:\n",
    "    with open(filename) as f:\n",
    "        n, p = fp.read().strip().split(\", \")\n",
    "        var_name.set(n) # 设置 Entry 文本输入的内容\n",
    "        var_pwd.set(p)\n",
    "except:\n",
    "    pass"
   ]
  },
  {
   "cell_type": "code",
   "execution_count": 8,
   "id": "f6b70260-71c9-4a1c-91ca-fc4ed963f99d",
   "metadata": {},
   "outputs": [],
   "source": [
    "# 记住我，复选框\n",
    "remember_me = tkinter.IntVar(root, value=1) # 生成一个整型变量\n",
    "# 选中时变量值为1，未选中时变量值为0，默认选中\n",
    "check_remember = tkinter.Checkbutton(\n",
    "    root, text=\"Remember me? \", variable=remember_me, onvalue=1, offvalue=0\n",
    ") # 创建复选框,variable: 组件关联的变量\n",
    "check_remember.place(x=30, y=70, width=120, height=20)"
   ]
  },
  {
   "cell_type": "code",
   "execution_count": 9,
   "id": "0f0a7d43-807c-4bb0-8109-8c03f3f35b50",
   "metadata": {},
   "outputs": [],
   "source": [
    "# 登录按钮事件处理函数\n",
    "def login():\n",
    "    # 获取用户名和密码\n",
    "    name = entry_name.get()\n",
    "    pwd = entry_pwd.get()\n",
    "    if name == \"admin\" and pwd == \"123456\":\n",
    "        tkinter.messagebox.showinfo(title=\"恭喜\", message=\"登陆成功! \")\n",
    "        if remember_me.get() == 1:\n",
    "            # 把登录成功的信息写入临时文件\n",
    "            with open(filename, \"w\") as fp:\n",
    "                fp.write(\", \".join((name, pwd)))\n",
    "        else:\n",
    "            try:\n",
    "                # 删除用于记录用户名和密码的临时文件\n",
    "                os.remove(filename)\n",
    "            except:\n",
    "                pass\n",
    "    else:\n",
    "        tkinter.messagebox.showerror(\"警告\", message=\"用户名或密码错误\")"
   ]
  },
  {
   "cell_type": "code",
   "execution_count": 10,
   "id": "335258db-5ad6-4da7-bcb9-eb17be8649c0",
   "metadata": {},
   "outputs": [],
   "source": [
    "# 创建按钮组件，同时设置按钮事件处理函数\n",
    "button_0k = tkinter.Button(root, text=\"Login\", command=login) # 按钮组件\n",
    "button_0k.place(x=30, y=100, width=50, height=20)"
   ]
  },
  {
   "cell_type": "code",
   "execution_count": 11,
   "id": "071d823c-80af-4f0e-b183-2950ea9a7806",
   "metadata": {},
   "outputs": [],
   "source": [
    "# 取消按钮的事件处理函数\n",
    "def cancel():\n",
    "    # 清空用户输入的用户名和密码\n",
    "    var_name.set(\"\")\n",
    "    var_pwd.set(\"\")"
   ]
  },
  {
   "cell_type": "code",
   "execution_count": 12,
   "id": "196ebd0a-bdf2-4fa1-9e26-6ddadc32476d",
   "metadata": {},
   "outputs": [],
   "source": [
    "button_cancel = tkinter.Button(root, text=\"Cancel\", command=cancel)\n",
    "button_cancel.place(x=90, y=100, width=50, height=20)"
   ]
  },
  {
   "cell_type": "code",
   "execution_count": 13,
   "id": "ee42f96c-a930-4932-917a-c4bfd710d85a",
   "metadata": {},
   "outputs": [],
   "source": [
    "# 启动消息循环\n",
    "root.mainloop()"
   ]
  },
  {
   "cell_type": "code",
   "execution_count": null,
   "id": "d418c2b8-2845-4b53-ad8c-11da9874d149",
   "metadata": {},
   "outputs": [],
   "source": []
  }
 ],
 "metadata": {
  "kernelspec": {
   "display_name": "Python 3 (ipykernel)",
   "language": "python",
   "name": "python3"
  },
  "language_info": {
   "codemirror_mode": {
    "name": "ipython",
    "version": 3
   },
   "file_extension": ".py",
   "mimetype": "text/x-python",
   "name": "python",
   "nbconvert_exporter": "python",
   "pygments_lexer": "ipython3",
   "version": "3.10.4"
  }
 },
 "nbformat": 4,
 "nbformat_minor": 5
}
