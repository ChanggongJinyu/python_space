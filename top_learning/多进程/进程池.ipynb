{
 "cells": [
  {
   "cell_type": "code",
   "execution_count": 3,
   "id": "e3dca327-e964-4aa1-bf60-54f7a4c8c211",
   "metadata": {
    "pycharm": {
     "name": "#%%\n"
    }
   },
   "outputs": [
    {
     "ename": "TimeoutError",
     "evalue": "",
     "output_type": "error",
     "traceback": [
      "\u001B[1;31m---------------------------------------------------------------------------\u001B[0m",
      "\u001B[1;31mTimeoutError\u001B[0m                              Traceback (most recent call last)",
      "Input \u001B[1;32mIn [3]\u001B[0m, in \u001B[0;36m<cell line: 9>\u001B[1;34m()\u001B[0m\n\u001B[0;32m     10\u001B[0m \u001B[38;5;28;01mwith\u001B[39;00m Pool(processes\u001B[38;5;241m=\u001B[39m\u001B[38;5;241m4\u001B[39m) \u001B[38;5;28;01mas\u001B[39;00m pool:  \u001B[38;5;66;03m# start 4 worker processes\u001B[39;00m\n\u001B[0;32m     11\u001B[0m     result \u001B[38;5;241m=\u001B[39m pool\u001B[38;5;241m.\u001B[39mapply_async(\n\u001B[0;32m     12\u001B[0m         f, (\u001B[38;5;241m10\u001B[39m,)\n\u001B[0;32m     13\u001B[0m     )  \u001B[38;5;66;03m# evaluate \"f(10)\" asynchronously in a single process\u001B[39;00m\n\u001B[1;32m---> 14\u001B[0m     \u001B[38;5;28mprint\u001B[39m(\u001B[43mresult\u001B[49m\u001B[38;5;241;43m.\u001B[39;49m\u001B[43mget\u001B[49m\u001B[43m(\u001B[49m\u001B[43mtimeout\u001B[49m\u001B[38;5;241;43m=\u001B[39;49m\u001B[38;5;241;43m2\u001B[39;49m\u001B[43m)\u001B[49m)  \u001B[38;5;66;03m# prints \"100\" unless your computer is *very* slow\u001B[39;00m\n\u001B[0;32m     16\u001B[0m     \u001B[38;5;28mprint\u001B[39m(pool\u001B[38;5;241m.\u001B[39mmap(f, \u001B[38;5;28mrange\u001B[39m(\u001B[38;5;241m10\u001B[39m)))  \u001B[38;5;66;03m# prints \"[0, 1, 4,..., 81]\"\u001B[39;00m\n\u001B[0;32m     18\u001B[0m     it \u001B[38;5;241m=\u001B[39m pool\u001B[38;5;241m.\u001B[39mimap(f, \u001B[38;5;28mrange\u001B[39m(\u001B[38;5;241m10\u001B[39m))\n",
      "File \u001B[1;32mD:\\software\\Python\\Python310\\lib\\multiprocessing\\pool.py:767\u001B[0m, in \u001B[0;36mApplyResult.get\u001B[1;34m(self, timeout)\u001B[0m\n\u001B[0;32m    765\u001B[0m \u001B[38;5;28mself\u001B[39m\u001B[38;5;241m.\u001B[39mwait(timeout)\n\u001B[0;32m    766\u001B[0m \u001B[38;5;28;01mif\u001B[39;00m \u001B[38;5;129;01mnot\u001B[39;00m \u001B[38;5;28mself\u001B[39m\u001B[38;5;241m.\u001B[39mready():\n\u001B[1;32m--> 767\u001B[0m     \u001B[38;5;28;01mraise\u001B[39;00m \u001B[38;5;167;01mTimeoutError\u001B[39;00m\n\u001B[0;32m    768\u001B[0m \u001B[38;5;28;01mif\u001B[39;00m \u001B[38;5;28mself\u001B[39m\u001B[38;5;241m.\u001B[39m_success:\n\u001B[0;32m    769\u001B[0m     \u001B[38;5;28;01mreturn\u001B[39;00m \u001B[38;5;28mself\u001B[39m\u001B[38;5;241m.\u001B[39m_value\n",
      "\u001B[1;31mTimeoutError\u001B[0m: "
     ]
    }
   ],
   "source": [
    "import time\n",
    "from multiprocessing import Pool\n",
    "\n",
    "\n",
    "def f(x):\n",
    "    return x * x\n",
    "\n",
    "\n",
    "if __name__ == \"__main__\":\n",
    "    with Pool(processes=4) as pool:  # start 4 worker processes\n",
    "        result = pool.apply_async(\n",
    "            f, (10,)\n",
    "        )  # evaluate \"f(10)\" asynchronously in a single process\n",
    "        print(result.get(timeout=))  # prints \"100\" unless your computer is *very* slow\n",
    "\n",
    "        print(pool.map(f, range(10)))  # prints \"[0, 1, 4,..., 81]\"\n",
    "\n",
    "        it = pool.imap(f, range(10))\n",
    "        print(next(it))  # prints \"0\"\n",
    "        print(next(it))  # prints \"1\"\n",
    "        print(it.next(timeout=1))  # prints \"4\" unless your computer is *very* slow\n",
    "\n",
    "        result = pool.apply_async(time.sleep, (10,))\n",
    "        print(result.get(timeout=1))  # raises multiprocessing.TimeoutError"
   ]
  },
  {
   "cell_type": "code",
   "execution_count": null,
   "id": "c4ef4ba6-1644-4e7d-b4cb-61f51b278ee9",
   "metadata": {
    "pycharm": {
     "name": "#%%\n"
    }
   },
   "outputs": [],
   "source": []
  }
 ],
 "metadata": {
  "kernelspec": {
   "display_name": "Python 3 (ipykernel)",
   "language": "python",
   "name": "python3"
  },
  "language_info": {
   "codemirror_mode": {
    "name": "ipython",
    "version": 3
   },
   "file_extension": ".py",
   "mimetype": "text/x-python",
   "name": "python",
   "nbconvert_exporter": "python",
   "pygments_lexer": "ipython3",
   "version": "3.10.4"
  }
 },
 "nbformat": 4,
 "nbformat_minor": 5
}